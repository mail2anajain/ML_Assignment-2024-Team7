{
 "cells": [
  {
   "cell_type": "code",
   "execution_count": 1,
   "id": "f347053e-475e-4392-a9cd-810a6359c3a1",
   "metadata": {
    "tags": []
   },
   "outputs": [
    {
     "name": "stdout",
     "output_type": "stream",
     "text": [
      "Requirement already satisfied: ucimlrepo in c:\\users\\sande\\anaconda3\\lib\\site-packages (0.0.7)\n",
      "Requirement already satisfied: pandas>=1.0.0 in c:\\users\\sande\\anaconda3\\lib\\site-packages (from ucimlrepo) (2.0.3)\n",
      "Requirement already satisfied: certifi>=2020.12.5 in c:\\users\\sande\\anaconda3\\lib\\site-packages (from ucimlrepo) (2024.8.30)\n",
      "Requirement already satisfied: python-dateutil>=2.8.2 in c:\\users\\sande\\anaconda3\\lib\\site-packages (from pandas>=1.0.0->ucimlrepo) (2.8.2)\n",
      "Requirement already satisfied: pytz>=2020.1 in c:\\users\\sande\\anaconda3\\lib\\site-packages (from pandas>=1.0.0->ucimlrepo) (2023.3.post1)\n",
      "Requirement already satisfied: tzdata>=2022.1 in c:\\users\\sande\\anaconda3\\lib\\site-packages (from pandas>=1.0.0->ucimlrepo) (2023.3)\n",
      "Requirement already satisfied: numpy>=1.21.0 in c:\\users\\sande\\anaconda3\\lib\\site-packages (from pandas>=1.0.0->ucimlrepo) (1.24.3)\n",
      "Requirement already satisfied: six>=1.5 in c:\\users\\sande\\anaconda3\\lib\\site-packages (from python-dateutil>=2.8.2->pandas>=1.0.0->ucimlrepo) (1.16.0)\n",
      "Note: you may need to restart the kernel to use updated packages.\n"
     ]
    }
   ],
   "source": [
    "pip install ucimlrepo"
   ]
  },
  {
   "cell_type": "code",
   "execution_count": 2,
   "id": "588a43e2-9c38-427f-b1a7-9f3ceb5540cd",
   "metadata": {
    "tags": []
   },
   "outputs": [
    {
     "data": {
      "text/html": [
       "<div>\n",
       "<style scoped>\n",
       "    .dataframe tbody tr th:only-of-type {\n",
       "        vertical-align: middle;\n",
       "    }\n",
       "\n",
       "    .dataframe tbody tr th {\n",
       "        vertical-align: top;\n",
       "    }\n",
       "\n",
       "    .dataframe thead th {\n",
       "        text-align: right;\n",
       "    }\n",
       "</style>\n",
       "<table border=\"1\" class=\"dataframe\">\n",
       "  <thead>\n",
       "    <tr style=\"text-align: right;\">\n",
       "      <th></th>\n",
       "      <th>age</th>\n",
       "      <th>workclass</th>\n",
       "      <th>fnlwgt</th>\n",
       "      <th>education</th>\n",
       "      <th>education-num</th>\n",
       "      <th>marital-status</th>\n",
       "      <th>occupation</th>\n",
       "      <th>relationship</th>\n",
       "      <th>race</th>\n",
       "      <th>sex</th>\n",
       "      <th>capital-gain</th>\n",
       "      <th>capital-loss</th>\n",
       "      <th>hours-per-week</th>\n",
       "      <th>native-country</th>\n",
       "      <th>income</th>\n",
       "    </tr>\n",
       "  </thead>\n",
       "  <tbody>\n",
       "    <tr>\n",
       "      <th>0</th>\n",
       "      <td>39</td>\n",
       "      <td>State-gov</td>\n",
       "      <td>77516</td>\n",
       "      <td>Bachelors</td>\n",
       "      <td>13</td>\n",
       "      <td>Never-married</td>\n",
       "      <td>Adm-clerical</td>\n",
       "      <td>Not-in-family</td>\n",
       "      <td>White</td>\n",
       "      <td>Male</td>\n",
       "      <td>2174</td>\n",
       "      <td>0</td>\n",
       "      <td>40</td>\n",
       "      <td>United-States</td>\n",
       "      <td>&lt;=50K</td>\n",
       "    </tr>\n",
       "    <tr>\n",
       "      <th>1</th>\n",
       "      <td>50</td>\n",
       "      <td>Self-emp-not-inc</td>\n",
       "      <td>83311</td>\n",
       "      <td>Bachelors</td>\n",
       "      <td>13</td>\n",
       "      <td>Married-civ-spouse</td>\n",
       "      <td>Exec-managerial</td>\n",
       "      <td>Husband</td>\n",
       "      <td>White</td>\n",
       "      <td>Male</td>\n",
       "      <td>0</td>\n",
       "      <td>0</td>\n",
       "      <td>13</td>\n",
       "      <td>United-States</td>\n",
       "      <td>&lt;=50K</td>\n",
       "    </tr>\n",
       "    <tr>\n",
       "      <th>2</th>\n",
       "      <td>38</td>\n",
       "      <td>Private</td>\n",
       "      <td>215646</td>\n",
       "      <td>HS-grad</td>\n",
       "      <td>9</td>\n",
       "      <td>Divorced</td>\n",
       "      <td>Handlers-cleaners</td>\n",
       "      <td>Not-in-family</td>\n",
       "      <td>White</td>\n",
       "      <td>Male</td>\n",
       "      <td>0</td>\n",
       "      <td>0</td>\n",
       "      <td>40</td>\n",
       "      <td>United-States</td>\n",
       "      <td>&lt;=50K</td>\n",
       "    </tr>\n",
       "    <tr>\n",
       "      <th>3</th>\n",
       "      <td>53</td>\n",
       "      <td>Private</td>\n",
       "      <td>234721</td>\n",
       "      <td>11th</td>\n",
       "      <td>7</td>\n",
       "      <td>Married-civ-spouse</td>\n",
       "      <td>Handlers-cleaners</td>\n",
       "      <td>Husband</td>\n",
       "      <td>Black</td>\n",
       "      <td>Male</td>\n",
       "      <td>0</td>\n",
       "      <td>0</td>\n",
       "      <td>40</td>\n",
       "      <td>United-States</td>\n",
       "      <td>&lt;=50K</td>\n",
       "    </tr>\n",
       "    <tr>\n",
       "      <th>4</th>\n",
       "      <td>28</td>\n",
       "      <td>Private</td>\n",
       "      <td>338409</td>\n",
       "      <td>Bachelors</td>\n",
       "      <td>13</td>\n",
       "      <td>Married-civ-spouse</td>\n",
       "      <td>Prof-specialty</td>\n",
       "      <td>Wife</td>\n",
       "      <td>Black</td>\n",
       "      <td>Female</td>\n",
       "      <td>0</td>\n",
       "      <td>0</td>\n",
       "      <td>40</td>\n",
       "      <td>Cuba</td>\n",
       "      <td>&lt;=50K</td>\n",
       "    </tr>\n",
       "    <tr>\n",
       "      <th>...</th>\n",
       "      <td>...</td>\n",
       "      <td>...</td>\n",
       "      <td>...</td>\n",
       "      <td>...</td>\n",
       "      <td>...</td>\n",
       "      <td>...</td>\n",
       "      <td>...</td>\n",
       "      <td>...</td>\n",
       "      <td>...</td>\n",
       "      <td>...</td>\n",
       "      <td>...</td>\n",
       "      <td>...</td>\n",
       "      <td>...</td>\n",
       "      <td>...</td>\n",
       "      <td>...</td>\n",
       "    </tr>\n",
       "    <tr>\n",
       "      <th>48837</th>\n",
       "      <td>39</td>\n",
       "      <td>Private</td>\n",
       "      <td>215419</td>\n",
       "      <td>Bachelors</td>\n",
       "      <td>13</td>\n",
       "      <td>Divorced</td>\n",
       "      <td>Prof-specialty</td>\n",
       "      <td>Not-in-family</td>\n",
       "      <td>White</td>\n",
       "      <td>Female</td>\n",
       "      <td>0</td>\n",
       "      <td>0</td>\n",
       "      <td>36</td>\n",
       "      <td>United-States</td>\n",
       "      <td>&lt;=50K.</td>\n",
       "    </tr>\n",
       "    <tr>\n",
       "      <th>48838</th>\n",
       "      <td>64</td>\n",
       "      <td>NaN</td>\n",
       "      <td>321403</td>\n",
       "      <td>HS-grad</td>\n",
       "      <td>9</td>\n",
       "      <td>Widowed</td>\n",
       "      <td>NaN</td>\n",
       "      <td>Other-relative</td>\n",
       "      <td>Black</td>\n",
       "      <td>Male</td>\n",
       "      <td>0</td>\n",
       "      <td>0</td>\n",
       "      <td>40</td>\n",
       "      <td>United-States</td>\n",
       "      <td>&lt;=50K.</td>\n",
       "    </tr>\n",
       "    <tr>\n",
       "      <th>48839</th>\n",
       "      <td>38</td>\n",
       "      <td>Private</td>\n",
       "      <td>374983</td>\n",
       "      <td>Bachelors</td>\n",
       "      <td>13</td>\n",
       "      <td>Married-civ-spouse</td>\n",
       "      <td>Prof-specialty</td>\n",
       "      <td>Husband</td>\n",
       "      <td>White</td>\n",
       "      <td>Male</td>\n",
       "      <td>0</td>\n",
       "      <td>0</td>\n",
       "      <td>50</td>\n",
       "      <td>United-States</td>\n",
       "      <td>&lt;=50K.</td>\n",
       "    </tr>\n",
       "    <tr>\n",
       "      <th>48840</th>\n",
       "      <td>44</td>\n",
       "      <td>Private</td>\n",
       "      <td>83891</td>\n",
       "      <td>Bachelors</td>\n",
       "      <td>13</td>\n",
       "      <td>Divorced</td>\n",
       "      <td>Adm-clerical</td>\n",
       "      <td>Own-child</td>\n",
       "      <td>Asian-Pac-Islander</td>\n",
       "      <td>Male</td>\n",
       "      <td>5455</td>\n",
       "      <td>0</td>\n",
       "      <td>40</td>\n",
       "      <td>United-States</td>\n",
       "      <td>&lt;=50K.</td>\n",
       "    </tr>\n",
       "    <tr>\n",
       "      <th>48841</th>\n",
       "      <td>35</td>\n",
       "      <td>Self-emp-inc</td>\n",
       "      <td>182148</td>\n",
       "      <td>Bachelors</td>\n",
       "      <td>13</td>\n",
       "      <td>Married-civ-spouse</td>\n",
       "      <td>Exec-managerial</td>\n",
       "      <td>Husband</td>\n",
       "      <td>White</td>\n",
       "      <td>Male</td>\n",
       "      <td>0</td>\n",
       "      <td>0</td>\n",
       "      <td>60</td>\n",
       "      <td>United-States</td>\n",
       "      <td>&gt;50K.</td>\n",
       "    </tr>\n",
       "  </tbody>\n",
       "</table>\n",
       "<p>48842 rows × 15 columns</p>\n",
       "</div>"
      ],
      "text/plain": [
       "       age         workclass  fnlwgt  education  education-num  \\\n",
       "0       39         State-gov   77516  Bachelors             13   \n",
       "1       50  Self-emp-not-inc   83311  Bachelors             13   \n",
       "2       38           Private  215646    HS-grad              9   \n",
       "3       53           Private  234721       11th              7   \n",
       "4       28           Private  338409  Bachelors             13   \n",
       "...    ...               ...     ...        ...            ...   \n",
       "48837   39           Private  215419  Bachelors             13   \n",
       "48838   64               NaN  321403    HS-grad              9   \n",
       "48839   38           Private  374983  Bachelors             13   \n",
       "48840   44           Private   83891  Bachelors             13   \n",
       "48841   35      Self-emp-inc  182148  Bachelors             13   \n",
       "\n",
       "           marital-status         occupation    relationship  \\\n",
       "0           Never-married       Adm-clerical   Not-in-family   \n",
       "1      Married-civ-spouse    Exec-managerial         Husband   \n",
       "2                Divorced  Handlers-cleaners   Not-in-family   \n",
       "3      Married-civ-spouse  Handlers-cleaners         Husband   \n",
       "4      Married-civ-spouse     Prof-specialty            Wife   \n",
       "...                   ...                ...             ...   \n",
       "48837            Divorced     Prof-specialty   Not-in-family   \n",
       "48838             Widowed                NaN  Other-relative   \n",
       "48839  Married-civ-spouse     Prof-specialty         Husband   \n",
       "48840            Divorced       Adm-clerical       Own-child   \n",
       "48841  Married-civ-spouse    Exec-managerial         Husband   \n",
       "\n",
       "                     race     sex  capital-gain  capital-loss  hours-per-week  \\\n",
       "0                   White    Male          2174             0              40   \n",
       "1                   White    Male             0             0              13   \n",
       "2                   White    Male             0             0              40   \n",
       "3                   Black    Male             0             0              40   \n",
       "4                   Black  Female             0             0              40   \n",
       "...                   ...     ...           ...           ...             ...   \n",
       "48837               White  Female             0             0              36   \n",
       "48838               Black    Male             0             0              40   \n",
       "48839               White    Male             0             0              50   \n",
       "48840  Asian-Pac-Islander    Male          5455             0              40   \n",
       "48841               White    Male             0             0              60   \n",
       "\n",
       "      native-country  income  \n",
       "0      United-States   <=50K  \n",
       "1      United-States   <=50K  \n",
       "2      United-States   <=50K  \n",
       "3      United-States   <=50K  \n",
       "4               Cuba   <=50K  \n",
       "...              ...     ...  \n",
       "48837  United-States  <=50K.  \n",
       "48838  United-States  <=50K.  \n",
       "48839  United-States  <=50K.  \n",
       "48840  United-States  <=50K.  \n",
       "48841  United-States   >50K.  \n",
       "\n",
       "[48842 rows x 15 columns]"
      ]
     },
     "execution_count": 2,
     "metadata": {},
     "output_type": "execute_result"
    }
   ],
   "source": [
    "from ucimlrepo import fetch_ucirepo \n",
    "  \n",
    "# fetch dataset \n",
    "adult = fetch_ucirepo(id=2) \n",
    "  \n",
    "df_adult = adult.data.original\n",
    "\n",
    "#Display the data\n",
    "df_adult"
   ]
  },
  {
   "cell_type": "markdown",
   "id": "fbb509d0-b54f-4a6a-97f0-96886acc431d",
   "metadata": {
    "tags": []
   },
   "source": [
    "#Export the dataframe to an excel file\n",
    "df_adult.to_excel('adult.xlsx', index=False)"
   ]
  },
  {
   "cell_type": "code",
   "execution_count": 4,
   "id": "e24cec42-3f13-46a5-92ad-fc39a8f9df29",
   "metadata": {
    "tags": []
   },
   "outputs": [
    {
     "data": {
      "text/html": [
       "<div>\n",
       "<style scoped>\n",
       "    .dataframe tbody tr th:only-of-type {\n",
       "        vertical-align: middle;\n",
       "    }\n",
       "\n",
       "    .dataframe tbody tr th {\n",
       "        vertical-align: top;\n",
       "    }\n",
       "\n",
       "    .dataframe thead th {\n",
       "        text-align: right;\n",
       "    }\n",
       "</style>\n",
       "<table border=\"1\" class=\"dataframe\">\n",
       "  <thead>\n",
       "    <tr style=\"text-align: right;\">\n",
       "      <th></th>\n",
       "      <th>age</th>\n",
       "      <th>workclass</th>\n",
       "      <th>fnlwgt</th>\n",
       "      <th>education</th>\n",
       "      <th>education-num</th>\n",
       "      <th>marital-status</th>\n",
       "      <th>occupation</th>\n",
       "      <th>relationship</th>\n",
       "      <th>race</th>\n",
       "      <th>sex</th>\n",
       "      <th>capital-gain</th>\n",
       "      <th>capital-loss</th>\n",
       "      <th>hours-per-week</th>\n",
       "      <th>native-country</th>\n",
       "      <th>income</th>\n",
       "    </tr>\n",
       "  </thead>\n",
       "  <tbody>\n",
       "    <tr>\n",
       "      <th>0</th>\n",
       "      <td>39</td>\n",
       "      <td>State-gov</td>\n",
       "      <td>77516</td>\n",
       "      <td>Bachelors</td>\n",
       "      <td>13</td>\n",
       "      <td>Never-married</td>\n",
       "      <td>Adm-clerical</td>\n",
       "      <td>Not-in-family</td>\n",
       "      <td>White</td>\n",
       "      <td>Male</td>\n",
       "      <td>2174</td>\n",
       "      <td>0</td>\n",
       "      <td>40</td>\n",
       "      <td>United-States</td>\n",
       "      <td>&lt;=50K</td>\n",
       "    </tr>\n",
       "    <tr>\n",
       "      <th>1</th>\n",
       "      <td>50</td>\n",
       "      <td>Self-emp-not-inc</td>\n",
       "      <td>83311</td>\n",
       "      <td>Bachelors</td>\n",
       "      <td>13</td>\n",
       "      <td>Married-civ-spouse</td>\n",
       "      <td>Exec-managerial</td>\n",
       "      <td>Husband</td>\n",
       "      <td>White</td>\n",
       "      <td>Male</td>\n",
       "      <td>0</td>\n",
       "      <td>0</td>\n",
       "      <td>13</td>\n",
       "      <td>United-States</td>\n",
       "      <td>&lt;=50K</td>\n",
       "    </tr>\n",
       "    <tr>\n",
       "      <th>2</th>\n",
       "      <td>38</td>\n",
       "      <td>Private</td>\n",
       "      <td>215646</td>\n",
       "      <td>HS-grad</td>\n",
       "      <td>9</td>\n",
       "      <td>Divorced</td>\n",
       "      <td>Handlers-cleaners</td>\n",
       "      <td>Not-in-family</td>\n",
       "      <td>White</td>\n",
       "      <td>Male</td>\n",
       "      <td>0</td>\n",
       "      <td>0</td>\n",
       "      <td>40</td>\n",
       "      <td>United-States</td>\n",
       "      <td>&lt;=50K</td>\n",
       "    </tr>\n",
       "    <tr>\n",
       "      <th>3</th>\n",
       "      <td>53</td>\n",
       "      <td>Private</td>\n",
       "      <td>234721</td>\n",
       "      <td>11th</td>\n",
       "      <td>7</td>\n",
       "      <td>Married-civ-spouse</td>\n",
       "      <td>Handlers-cleaners</td>\n",
       "      <td>Husband</td>\n",
       "      <td>Black</td>\n",
       "      <td>Male</td>\n",
       "      <td>0</td>\n",
       "      <td>0</td>\n",
       "      <td>40</td>\n",
       "      <td>United-States</td>\n",
       "      <td>&lt;=50K</td>\n",
       "    </tr>\n",
       "    <tr>\n",
       "      <th>4</th>\n",
       "      <td>28</td>\n",
       "      <td>Private</td>\n",
       "      <td>338409</td>\n",
       "      <td>Bachelors</td>\n",
       "      <td>13</td>\n",
       "      <td>Married-civ-spouse</td>\n",
       "      <td>Prof-specialty</td>\n",
       "      <td>Wife</td>\n",
       "      <td>Black</td>\n",
       "      <td>Female</td>\n",
       "      <td>0</td>\n",
       "      <td>0</td>\n",
       "      <td>40</td>\n",
       "      <td>Cuba</td>\n",
       "      <td>&lt;=50K</td>\n",
       "    </tr>\n",
       "  </tbody>\n",
       "</table>\n",
       "</div>"
      ],
      "text/plain": [
       "   age         workclass  fnlwgt  education  education-num  \\\n",
       "0   39         State-gov   77516  Bachelors             13   \n",
       "1   50  Self-emp-not-inc   83311  Bachelors             13   \n",
       "2   38           Private  215646    HS-grad              9   \n",
       "3   53           Private  234721       11th              7   \n",
       "4   28           Private  338409  Bachelors             13   \n",
       "\n",
       "       marital-status         occupation   relationship   race     sex  \\\n",
       "0       Never-married       Adm-clerical  Not-in-family  White    Male   \n",
       "1  Married-civ-spouse    Exec-managerial        Husband  White    Male   \n",
       "2            Divorced  Handlers-cleaners  Not-in-family  White    Male   \n",
       "3  Married-civ-spouse  Handlers-cleaners        Husband  Black    Male   \n",
       "4  Married-civ-spouse     Prof-specialty           Wife  Black  Female   \n",
       "\n",
       "   capital-gain  capital-loss  hours-per-week native-country income  \n",
       "0          2174             0              40  United-States  <=50K  \n",
       "1             0             0              13  United-States  <=50K  \n",
       "2             0             0              40  United-States  <=50K  \n",
       "3             0             0              40  United-States  <=50K  \n",
       "4             0             0              40           Cuba  <=50K  "
      ]
     },
     "execution_count": 4,
     "metadata": {},
     "output_type": "execute_result"
    }
   ],
   "source": [
    "#display first few rows of the adult dataset using head() function\n",
    "df_adult.head()"
   ]
  },
  {
   "cell_type": "code",
   "execution_count": 5,
   "id": "f79e6428-e27d-4fdc-b7e6-3fc45e41a8a3",
   "metadata": {
    "tags": []
   },
   "outputs": [
    {
     "data": {
      "text/html": [
       "<div>\n",
       "<style scoped>\n",
       "    .dataframe tbody tr th:only-of-type {\n",
       "        vertical-align: middle;\n",
       "    }\n",
       "\n",
       "    .dataframe tbody tr th {\n",
       "        vertical-align: top;\n",
       "    }\n",
       "\n",
       "    .dataframe thead th {\n",
       "        text-align: right;\n",
       "    }\n",
       "</style>\n",
       "<table border=\"1\" class=\"dataframe\">\n",
       "  <thead>\n",
       "    <tr style=\"text-align: right;\">\n",
       "      <th></th>\n",
       "      <th>age</th>\n",
       "      <th>workclass</th>\n",
       "      <th>fnlwgt</th>\n",
       "      <th>education</th>\n",
       "      <th>education-num</th>\n",
       "      <th>marital-status</th>\n",
       "      <th>occupation</th>\n",
       "      <th>relationship</th>\n",
       "      <th>race</th>\n",
       "      <th>sex</th>\n",
       "      <th>capital-gain</th>\n",
       "      <th>capital-loss</th>\n",
       "      <th>hours-per-week</th>\n",
       "      <th>native-country</th>\n",
       "      <th>income</th>\n",
       "    </tr>\n",
       "  </thead>\n",
       "  <tbody>\n",
       "    <tr>\n",
       "      <th>31474</th>\n",
       "      <td>31</td>\n",
       "      <td>Private</td>\n",
       "      <td>39054</td>\n",
       "      <td>HS-grad</td>\n",
       "      <td>9</td>\n",
       "      <td>Married-civ-spouse</td>\n",
       "      <td>Craft-repair</td>\n",
       "      <td>Husband</td>\n",
       "      <td>White</td>\n",
       "      <td>Male</td>\n",
       "      <td>0</td>\n",
       "      <td>0</td>\n",
       "      <td>20</td>\n",
       "      <td>United-States</td>\n",
       "      <td>&lt;=50K</td>\n",
       "    </tr>\n",
       "    <tr>\n",
       "      <th>31936</th>\n",
       "      <td>50</td>\n",
       "      <td>Self-emp-inc</td>\n",
       "      <td>52565</td>\n",
       "      <td>Some-college</td>\n",
       "      <td>10</td>\n",
       "      <td>Married-civ-spouse</td>\n",
       "      <td>Sales</td>\n",
       "      <td>Husband</td>\n",
       "      <td>White</td>\n",
       "      <td>Male</td>\n",
       "      <td>0</td>\n",
       "      <td>1485</td>\n",
       "      <td>40</td>\n",
       "      <td>United-States</td>\n",
       "      <td>&lt;=50K</td>\n",
       "    </tr>\n",
       "    <tr>\n",
       "      <th>13784</th>\n",
       "      <td>73</td>\n",
       "      <td>?</td>\n",
       "      <td>191394</td>\n",
       "      <td>Prof-school</td>\n",
       "      <td>15</td>\n",
       "      <td>Married-civ-spouse</td>\n",
       "      <td>?</td>\n",
       "      <td>Husband</td>\n",
       "      <td>White</td>\n",
       "      <td>Male</td>\n",
       "      <td>0</td>\n",
       "      <td>0</td>\n",
       "      <td>40</td>\n",
       "      <td>United-States</td>\n",
       "      <td>&lt;=50K</td>\n",
       "    </tr>\n",
       "    <tr>\n",
       "      <th>40470</th>\n",
       "      <td>42</td>\n",
       "      <td>Private</td>\n",
       "      <td>276218</td>\n",
       "      <td>Bachelors</td>\n",
       "      <td>13</td>\n",
       "      <td>Divorced</td>\n",
       "      <td>Exec-managerial</td>\n",
       "      <td>Unmarried</td>\n",
       "      <td>White</td>\n",
       "      <td>Female</td>\n",
       "      <td>0</td>\n",
       "      <td>0</td>\n",
       "      <td>38</td>\n",
       "      <td>United-States</td>\n",
       "      <td>&lt;=50K.</td>\n",
       "    </tr>\n",
       "    <tr>\n",
       "      <th>18304</th>\n",
       "      <td>41</td>\n",
       "      <td>Private</td>\n",
       "      <td>32121</td>\n",
       "      <td>HS-grad</td>\n",
       "      <td>9</td>\n",
       "      <td>Married-civ-spouse</td>\n",
       "      <td>Machine-op-inspct</td>\n",
       "      <td>Husband</td>\n",
       "      <td>White</td>\n",
       "      <td>Male</td>\n",
       "      <td>0</td>\n",
       "      <td>0</td>\n",
       "      <td>40</td>\n",
       "      <td>United-States</td>\n",
       "      <td>&gt;50K</td>\n",
       "    </tr>\n",
       "  </tbody>\n",
       "</table>\n",
       "</div>"
      ],
      "text/plain": [
       "       age     workclass  fnlwgt     education  education-num  \\\n",
       "31474   31       Private   39054       HS-grad              9   \n",
       "31936   50  Self-emp-inc   52565  Some-college             10   \n",
       "13784   73             ?  191394   Prof-school             15   \n",
       "40470   42       Private  276218     Bachelors             13   \n",
       "18304   41       Private   32121       HS-grad              9   \n",
       "\n",
       "           marital-status         occupation relationship   race     sex  \\\n",
       "31474  Married-civ-spouse       Craft-repair      Husband  White    Male   \n",
       "31936  Married-civ-spouse              Sales      Husband  White    Male   \n",
       "13784  Married-civ-spouse                  ?      Husband  White    Male   \n",
       "40470            Divorced    Exec-managerial    Unmarried  White  Female   \n",
       "18304  Married-civ-spouse  Machine-op-inspct      Husband  White    Male   \n",
       "\n",
       "       capital-gain  capital-loss  hours-per-week native-country  income  \n",
       "31474             0             0              20  United-States   <=50K  \n",
       "31936             0          1485              40  United-States   <=50K  \n",
       "13784             0             0              40  United-States   <=50K  \n",
       "40470             0             0              38  United-States  <=50K.  \n",
       "18304             0             0              40  United-States    >50K  "
      ]
     },
     "execution_count": 5,
     "metadata": {},
     "output_type": "execute_result"
    }
   ],
   "source": [
    "#display first few rows of the adult dataset using sample() function\n",
    "df_adult.sample(5)"
   ]
  },
  {
   "cell_type": "code",
   "execution_count": 6,
   "id": "ddd60f6b-2f3f-4a79-abff-2afebdec0721",
   "metadata": {
    "tags": []
   },
   "outputs": [
    {
     "name": "stdout",
     "output_type": "stream",
     "text": [
      "<class 'pandas.core.frame.DataFrame'>\n",
      "RangeIndex: 48842 entries, 0 to 48841\n",
      "Data columns (total 15 columns):\n",
      " #   Column          Non-Null Count  Dtype \n",
      "---  ------          --------------  ----- \n",
      " 0   age             48842 non-null  int64 \n",
      " 1   workclass       47879 non-null  object\n",
      " 2   fnlwgt          48842 non-null  int64 \n",
      " 3   education       48842 non-null  object\n",
      " 4   education-num   48842 non-null  int64 \n",
      " 5   marital-status  48842 non-null  object\n",
      " 6   occupation      47876 non-null  object\n",
      " 7   relationship    48842 non-null  object\n",
      " 8   race            48842 non-null  object\n",
      " 9   sex             48842 non-null  object\n",
      " 10  capital-gain    48842 non-null  int64 \n",
      " 11  capital-loss    48842 non-null  int64 \n",
      " 12  hours-per-week  48842 non-null  int64 \n",
      " 13  native-country  48568 non-null  object\n",
      " 14  income          48842 non-null  object\n",
      "dtypes: int64(6), object(9)\n",
      "memory usage: 5.6+ MB\n"
     ]
    }
   ],
   "source": [
    "#Examine the columns and their datatypes\n",
    "df_adult.info()"
   ]
  },
  {
   "cell_type": "code",
   "execution_count": 7,
   "id": "4dfe7d90-fc72-47bc-aca2-d39344661f76",
   "metadata": {},
   "outputs": [
    {
     "data": {
      "text/plain": [
       "age                 0\n",
       "workclass         963\n",
       "fnlwgt              0\n",
       "education           0\n",
       "education-num       0\n",
       "marital-status      0\n",
       "occupation        966\n",
       "relationship        0\n",
       "race                0\n",
       "sex                 0\n",
       "capital-gain        0\n",
       "capital-loss        0\n",
       "hours-per-week      0\n",
       "native-country    274\n",
       "income              0\n",
       "dtype: int64"
      ]
     },
     "execution_count": 7,
     "metadata": {},
     "output_type": "execute_result"
    }
   ],
   "source": [
    "#check for missing values using isnull() function\n",
    "df_adult.isnull().sum()"
   ]
  },
  {
   "cell_type": "code",
   "execution_count": 8,
   "id": "7287d7b6-33c4-4a76-9ecc-f25804190adc",
   "metadata": {
    "tags": []
   },
   "outputs": [
    {
     "data": {
      "text/html": [
       "<div>\n",
       "<style scoped>\n",
       "    .dataframe tbody tr th:only-of-type {\n",
       "        vertical-align: middle;\n",
       "    }\n",
       "\n",
       "    .dataframe tbody tr th {\n",
       "        vertical-align: top;\n",
       "    }\n",
       "\n",
       "    .dataframe thead th {\n",
       "        text-align: right;\n",
       "    }\n",
       "</style>\n",
       "<table border=\"1\" class=\"dataframe\">\n",
       "  <thead>\n",
       "    <tr style=\"text-align: right;\">\n",
       "      <th></th>\n",
       "      <th>age</th>\n",
       "      <th>fnlwgt</th>\n",
       "      <th>education-num</th>\n",
       "      <th>capital-gain</th>\n",
       "      <th>capital-loss</th>\n",
       "      <th>hours-per-week</th>\n",
       "    </tr>\n",
       "  </thead>\n",
       "  <tbody>\n",
       "    <tr>\n",
       "      <th>count</th>\n",
       "      <td>48842.000000</td>\n",
       "      <td>4.884200e+04</td>\n",
       "      <td>48842.000000</td>\n",
       "      <td>48842.000000</td>\n",
       "      <td>48842.000000</td>\n",
       "      <td>48842.000000</td>\n",
       "    </tr>\n",
       "    <tr>\n",
       "      <th>mean</th>\n",
       "      <td>38.643585</td>\n",
       "      <td>1.896641e+05</td>\n",
       "      <td>10.078089</td>\n",
       "      <td>1079.067626</td>\n",
       "      <td>87.502314</td>\n",
       "      <td>40.422382</td>\n",
       "    </tr>\n",
       "    <tr>\n",
       "      <th>std</th>\n",
       "      <td>13.710510</td>\n",
       "      <td>1.056040e+05</td>\n",
       "      <td>2.570973</td>\n",
       "      <td>7452.019058</td>\n",
       "      <td>403.004552</td>\n",
       "      <td>12.391444</td>\n",
       "    </tr>\n",
       "    <tr>\n",
       "      <th>min</th>\n",
       "      <td>17.000000</td>\n",
       "      <td>1.228500e+04</td>\n",
       "      <td>1.000000</td>\n",
       "      <td>0.000000</td>\n",
       "      <td>0.000000</td>\n",
       "      <td>1.000000</td>\n",
       "    </tr>\n",
       "    <tr>\n",
       "      <th>25%</th>\n",
       "      <td>28.000000</td>\n",
       "      <td>1.175505e+05</td>\n",
       "      <td>9.000000</td>\n",
       "      <td>0.000000</td>\n",
       "      <td>0.000000</td>\n",
       "      <td>40.000000</td>\n",
       "    </tr>\n",
       "    <tr>\n",
       "      <th>50%</th>\n",
       "      <td>37.000000</td>\n",
       "      <td>1.781445e+05</td>\n",
       "      <td>10.000000</td>\n",
       "      <td>0.000000</td>\n",
       "      <td>0.000000</td>\n",
       "      <td>40.000000</td>\n",
       "    </tr>\n",
       "    <tr>\n",
       "      <th>75%</th>\n",
       "      <td>48.000000</td>\n",
       "      <td>2.376420e+05</td>\n",
       "      <td>12.000000</td>\n",
       "      <td>0.000000</td>\n",
       "      <td>0.000000</td>\n",
       "      <td>45.000000</td>\n",
       "    </tr>\n",
       "    <tr>\n",
       "      <th>max</th>\n",
       "      <td>90.000000</td>\n",
       "      <td>1.490400e+06</td>\n",
       "      <td>16.000000</td>\n",
       "      <td>99999.000000</td>\n",
       "      <td>4356.000000</td>\n",
       "      <td>99.000000</td>\n",
       "    </tr>\n",
       "  </tbody>\n",
       "</table>\n",
       "</div>"
      ],
      "text/plain": [
       "                age        fnlwgt  education-num  capital-gain  capital-loss  \\\n",
       "count  48842.000000  4.884200e+04   48842.000000  48842.000000  48842.000000   \n",
       "mean      38.643585  1.896641e+05      10.078089   1079.067626     87.502314   \n",
       "std       13.710510  1.056040e+05       2.570973   7452.019058    403.004552   \n",
       "min       17.000000  1.228500e+04       1.000000      0.000000      0.000000   \n",
       "25%       28.000000  1.175505e+05       9.000000      0.000000      0.000000   \n",
       "50%       37.000000  1.781445e+05      10.000000      0.000000      0.000000   \n",
       "75%       48.000000  2.376420e+05      12.000000      0.000000      0.000000   \n",
       "max       90.000000  1.490400e+06      16.000000  99999.000000   4356.000000   \n",
       "\n",
       "       hours-per-week  \n",
       "count    48842.000000  \n",
       "mean        40.422382  \n",
       "std         12.391444  \n",
       "min          1.000000  \n",
       "25%         40.000000  \n",
       "50%         40.000000  \n",
       "75%         45.000000  \n",
       "max         99.000000  "
      ]
     },
     "execution_count": 8,
     "metadata": {},
     "output_type": "execute_result"
    }
   ],
   "source": [
    "#Investigate basic summary statistics for the numerical columns\n",
    "df_adult.describe()"
   ]
  },
  {
   "cell_type": "code",
   "execution_count": 9,
   "id": "bd2d22b6-e889-4544-886c-2fd9c016642e",
   "metadata": {
    "tags": []
   },
   "outputs": [
    {
     "data": {
      "text/html": [
       "<div>\n",
       "<style scoped>\n",
       "    .dataframe tbody tr th:only-of-type {\n",
       "        vertical-align: middle;\n",
       "    }\n",
       "\n",
       "    .dataframe tbody tr th {\n",
       "        vertical-align: top;\n",
       "    }\n",
       "\n",
       "    .dataframe thead th {\n",
       "        text-align: right;\n",
       "    }\n",
       "</style>\n",
       "<table border=\"1\" class=\"dataframe\">\n",
       "  <thead>\n",
       "    <tr style=\"text-align: right;\">\n",
       "      <th></th>\n",
       "      <th>workclass</th>\n",
       "      <th>education</th>\n",
       "      <th>marital-status</th>\n",
       "      <th>occupation</th>\n",
       "      <th>relationship</th>\n",
       "      <th>race</th>\n",
       "      <th>sex</th>\n",
       "      <th>native-country</th>\n",
       "      <th>income</th>\n",
       "    </tr>\n",
       "  </thead>\n",
       "  <tbody>\n",
       "    <tr>\n",
       "      <th>count</th>\n",
       "      <td>47879</td>\n",
       "      <td>48842</td>\n",
       "      <td>48842</td>\n",
       "      <td>47876</td>\n",
       "      <td>48842</td>\n",
       "      <td>48842</td>\n",
       "      <td>48842</td>\n",
       "      <td>48568</td>\n",
       "      <td>48842</td>\n",
       "    </tr>\n",
       "    <tr>\n",
       "      <th>unique</th>\n",
       "      <td>9</td>\n",
       "      <td>16</td>\n",
       "      <td>7</td>\n",
       "      <td>15</td>\n",
       "      <td>6</td>\n",
       "      <td>5</td>\n",
       "      <td>2</td>\n",
       "      <td>42</td>\n",
       "      <td>4</td>\n",
       "    </tr>\n",
       "    <tr>\n",
       "      <th>top</th>\n",
       "      <td>Private</td>\n",
       "      <td>HS-grad</td>\n",
       "      <td>Married-civ-spouse</td>\n",
       "      <td>Prof-specialty</td>\n",
       "      <td>Husband</td>\n",
       "      <td>White</td>\n",
       "      <td>Male</td>\n",
       "      <td>United-States</td>\n",
       "      <td>&lt;=50K</td>\n",
       "    </tr>\n",
       "    <tr>\n",
       "      <th>freq</th>\n",
       "      <td>33906</td>\n",
       "      <td>15784</td>\n",
       "      <td>22379</td>\n",
       "      <td>6172</td>\n",
       "      <td>19716</td>\n",
       "      <td>41762</td>\n",
       "      <td>32650</td>\n",
       "      <td>43832</td>\n",
       "      <td>24720</td>\n",
       "    </tr>\n",
       "  </tbody>\n",
       "</table>\n",
       "</div>"
      ],
      "text/plain": [
       "       workclass education      marital-status      occupation relationship  \\\n",
       "count      47879     48842               48842           47876        48842   \n",
       "unique         9        16                   7              15            6   \n",
       "top      Private   HS-grad  Married-civ-spouse  Prof-specialty      Husband   \n",
       "freq       33906     15784               22379            6172        19716   \n",
       "\n",
       "         race    sex native-country income  \n",
       "count   48842  48842          48568  48842  \n",
       "unique      5      2             42      4  \n",
       "top     White   Male  United-States  <=50K  \n",
       "freq    41762  32650          43832  24720  "
      ]
     },
     "execution_count": 9,
     "metadata": {},
     "output_type": "execute_result"
    }
   ],
   "source": [
    "#get summary summary statistics for the categorical columns\n",
    "df_adult.describe(include='object')"
   ]
  },
  {
   "cell_type": "markdown",
   "id": "f96024be-e22a-4907-aca3-3d677df4d94e",
   "metadata": {
    "tags": []
   },
   "source": [
    "# **Data Cleaning**"
   ]
  },
  {
   "cell_type": "code",
   "execution_count": 11,
   "id": "9b539936-30eb-4b1a-a7f1-0c0c6caa0565",
   "metadata": {
    "tags": []
   },
   "outputs": [
    {
     "data": {
      "text/plain": [
       "array(['<=50K', '>50K'], dtype=object)"
      ]
     },
     "execution_count": 11,
     "metadata": {},
     "output_type": "execute_result"
    }
   ],
   "source": [
    "#replace values \"<=50K.\" and \">50K.\" with \"<=50K\" and \">50K\" respectively\n",
    "df_adult_clean = df_adult.replace({'<=50K.' : '<=50K',\n",
    "                                   '>50K.' : '>50K'})\n",
    "\n",
    "#retrieve the unique values in the 'income' column after replacement\n",
    "df_adult_clean['income'].unique()"
   ]
  },
  {
   "cell_type": "markdown",
   "id": "35c1d367-d01e-4d57-8d75-db754c08b258",
   "metadata": {},
   "source": [
    "## Handle missing values"
   ]
  },
  {
   "cell_type": "code",
   "execution_count": 13,
   "id": "e9ec9058-5ad7-4239-bea8-d502d2cc9fd9",
   "metadata": {
    "tags": []
   },
   "outputs": [
    {
     "data": {
      "text/plain": [
       "age                 0\n",
       "workclass         963\n",
       "fnlwgt              0\n",
       "education           0\n",
       "education-num       0\n",
       "marital-status      0\n",
       "occupation        966\n",
       "relationship        0\n",
       "race                0\n",
       "sex                 0\n",
       "capital-gain        0\n",
       "capital-loss        0\n",
       "hours-per-week      0\n",
       "native-country    274\n",
       "income              0\n",
       "dtype: int64"
      ]
     },
     "execution_count": 13,
     "metadata": {},
     "output_type": "execute_result"
    }
   ],
   "source": [
    "#check for missing values using isnull() function\n",
    "df_adult.isnull().sum()"
   ]
  },
  {
   "cell_type": "code",
   "execution_count": 14,
   "id": "99eb9de4-9944-4d94-b502-6631580757c6",
   "metadata": {
    "tags": []
   },
   "outputs": [
    {
     "data": {
      "text/plain": [
       "age               0\n",
       "workclass         0\n",
       "fnlwgt            0\n",
       "education         0\n",
       "education-num     0\n",
       "marital-status    0\n",
       "occupation        0\n",
       "relationship      0\n",
       "race              0\n",
       "sex               0\n",
       "capital-gain      0\n",
       "capital-loss      0\n",
       "hours-per-week    0\n",
       "native-country    0\n",
       "income            0\n",
       "dtype: int64"
      ]
     },
     "execution_count": 14,
     "metadata": {},
     "output_type": "execute_result"
    }
   ],
   "source": [
    "import numpy as np\n",
    "#replace \"?\" with nan\n",
    "df_adult_clean.replace('?', np.nan, inplace=True)\n",
    "\n",
    "#check for occurences of \"?\"\n",
    "df_adult_clean.isin(['?']).sum()"
   ]
  },
  {
   "cell_type": "code",
   "execution_count": 15,
   "id": "e7f7ece0-04ab-48e7-908d-24c1996ac216",
   "metadata": {
    "tags": []
   },
   "outputs": [
    {
     "data": {
      "text/plain": [
       "age                  0\n",
       "workclass         2799\n",
       "fnlwgt               0\n",
       "education            0\n",
       "education-num        0\n",
       "marital-status       0\n",
       "occupation        2809\n",
       "relationship         0\n",
       "race                 0\n",
       "sex                  0\n",
       "capital-gain         0\n",
       "capital-loss         0\n",
       "hours-per-week       0\n",
       "native-country     857\n",
       "income               0\n",
       "dtype: int64"
      ]
     },
     "execution_count": 15,
     "metadata": {},
     "output_type": "execute_result"
    }
   ],
   "source": [
    "#check for missing values using isnull() function\n",
    "df_adult_clean.isnull().sum()"
   ]
  },
  {
   "cell_type": "code",
   "execution_count": 16,
   "id": "ad86f310-ccd6-4fc8-aa0b-4877d23885a1",
   "metadata": {
    "tags": []
   },
   "outputs": [
    {
     "name": "stdout",
     "output_type": "stream",
     "text": [
      "  workclass  education-num\n",
      "0   Private              9\n"
     ]
    },
    {
     "data": {
      "text/plain": [
       "0"
      ]
     },
     "execution_count": 16,
     "metadata": {},
     "output_type": "execute_result"
    }
   ],
   "source": [
    "#Impute missing values for categorical columns using mode() method\n",
    "\n",
    "#Impute missing values in \"workclass\" column\n",
    "mode_workclass= df_adult_clean.filter([\"workclass\", \"education-num\"]).mode()\n",
    "print(mode_workclass)\n",
    "\n",
    "cols = [\"workclass\", \"education-num\"]\n",
    "df_adult_clean[cols]=df_adult_clean[cols].fillna(mode_workclass.iloc[0])\n",
    "\n",
    "#check the missing values in workclass column\n",
    "df_adult_clean['workclass'].isnull().sum()"
   ]
  },
  {
   "cell_type": "code",
   "execution_count": 17,
   "id": "b9c1e36d-1647-4452-b1ce-1f2bf2cab7ba",
   "metadata": {
    "tags": []
   },
   "outputs": [
    {
     "name": "stdout",
     "output_type": "stream",
     "text": [
      "  workclass native-country\n",
      "0   Private  United-States\n"
     ]
    },
    {
     "data": {
      "text/plain": [
       "0"
      ]
     },
     "execution_count": 17,
     "metadata": {},
     "output_type": "execute_result"
    }
   ],
   "source": [
    "#Impute missing values in \"native-country\" column\n",
    "mode_country= df_adult_clean.filter([\"workclass\", \"native-country\"]).mode()\n",
    "print(mode_country)\n",
    "\n",
    "cols_1 = [\"workclass\", \"native-country\"]\n",
    "df_adult_clean[cols_1]=df_adult_clean[cols_1].fillna(mode_country.iloc[0])\n",
    "\n",
    "#check the missing values in workclass column\n",
    "df_adult_clean['native-country'].isnull().sum()"
   ]
  },
  {
   "cell_type": "code",
   "execution_count": 18,
   "id": "861d1673-f657-47b8-9fc4-776aada90fe0",
   "metadata": {
    "tags": []
   },
   "outputs": [
    {
     "data": {
      "text/plain": [
       "age               0\n",
       "workclass         0\n",
       "fnlwgt            0\n",
       "education         0\n",
       "education-num     0\n",
       "marital-status    0\n",
       "occupation        0\n",
       "relationship      0\n",
       "race              0\n",
       "sex               0\n",
       "capital-gain      0\n",
       "capital-loss      0\n",
       "hours-per-week    0\n",
       "native-country    0\n",
       "income            0\n",
       "dtype: int64"
      ]
     },
     "execution_count": 18,
     "metadata": {},
     "output_type": "execute_result"
    }
   ],
   "source": [
    "#Fill missing values in the \"occupation\" column using mode() method\n",
    "df_adult_clean['occupation'] = df_adult_clean['occupation'].fillna(df_adult_clean['occupation'].mode().iloc[0])\n",
    "\n",
    "#check for null values\n",
    "df_adult_clean.isnull().sum()"
   ]
  },
  {
   "cell_type": "markdown",
   "id": "493aa998-2b0e-4c72-83b7-6c944fdccf59",
   "metadata": {},
   "source": [
    "## *Remove whitespaces and standardize text*"
   ]
  },
  {
   "cell_type": "code",
   "execution_count": 20,
   "id": "7c39eb62-6f83-45f0-acac-cfd428ff5bbf",
   "metadata": {
    "tags": []
   },
   "outputs": [
    {
     "name": "stdout",
     "output_type": "stream",
     "text": [
      "workclass: ['state-gov' 'self-emp-not-inc' 'private' 'federal-gov' 'local-gov'\n",
      " 'self-emp-inc' 'without-pay' 'never-worked']\n",
      "\n",
      "education: ['bachelors' 'hs-grad' '11th' 'masters' '9th' 'some-college' 'assoc-acdm'\n",
      " 'assoc-voc' '7th-8th' 'doctorate' 'prof-school' '5th-6th' '10th'\n",
      " '1st-4th' 'preschool' '12th']\n",
      "\n",
      "marital-status: ['never-married' 'married-civ-spouse' 'divorced' 'married-spouse-absent'\n",
      " 'separated' 'married-af-spouse' 'widowed']\n",
      "\n",
      "occupation: ['adm-clerical' 'exec-managerial' 'handlers-cleaners' 'prof-specialty'\n",
      " 'other-service' 'sales' 'craft-repair' 'transport-moving'\n",
      " 'farming-fishing' 'machine-op-inspct' 'tech-support' 'protective-serv'\n",
      " 'armed-forces' 'priv-house-serv']\n",
      "\n",
      "relationship: ['not-in-family' 'husband' 'wife' 'own-child' 'unmarried' 'other-relative']\n",
      "\n",
      "race: ['white' 'black' 'asian-pac-islander' 'amer-indian-eskimo' 'other']\n",
      "\n",
      "sex: ['male' 'female']\n",
      "\n",
      "native-country: ['united-states' 'cuba' 'jamaica' 'india' 'mexico' 'south' 'puerto-rico'\n",
      " 'honduras' 'england' 'canada' 'germany' 'iran' 'philippines' 'italy'\n",
      " 'poland' 'columbia' 'cambodia' 'thailand' 'ecuador' 'laos' 'taiwan'\n",
      " 'haiti' 'portugal' 'dominican-republic' 'el-salvador' 'france'\n",
      " 'guatemala' 'china' 'japan' 'yugoslavia' 'peru'\n",
      " 'outlying-us(guam-usvi-etc)' 'scotland' 'trinadad&tobago' 'greece'\n",
      " 'nicaragua' 'vietnam' 'hong' 'ireland' 'hungary' 'holand-netherlands']\n",
      "\n",
      "income: ['<=50k' '>50k']\n",
      "\n"
     ]
    }
   ],
   "source": [
    "import pandas as pd\n",
    "\n",
    "# Identify categorical columns\n",
    "categorical_cols = df_adult_clean.select_dtypes(include=['object']).columns\n",
    "\n",
    "# Remove whitespaces and standardize text\n",
    "for col in categorical_cols:\n",
    "    df_adult_clean[col] = df_adult_clean[col].str.strip().str.lower()\n",
    "    \n",
    "\n",
    "# Verify changes\n",
    "for col in categorical_cols:\n",
    "    unique_values = df_adult_clean[col].unique()\n",
    "    print(f\"{col}: {unique_values}\\n\") "
   ]
  },
  {
   "cell_type": "markdown",
   "id": "7626e638-1c3c-43ce-9757-5e84c03628c1",
   "metadata": {
    "tags": []
   },
   "source": [
    "## *Correct data types*"
   ]
  },
  {
   "cell_type": "code",
   "execution_count": 22,
   "id": "0544dfd9-9f95-466c-be4b-3d130cce86ee",
   "metadata": {
    "tags": []
   },
   "outputs": [
    {
     "name": "stdout",
     "output_type": "stream",
     "text": [
      "<class 'pandas.core.frame.DataFrame'>\n",
      "RangeIndex: 48842 entries, 0 to 48841\n",
      "Data columns (total 15 columns):\n",
      " #   Column          Non-Null Count  Dtype \n",
      "---  ------          --------------  ----- \n",
      " 0   age             48842 non-null  int64 \n",
      " 1   workclass       48842 non-null  object\n",
      " 2   fnlwgt          48842 non-null  int64 \n",
      " 3   education       48842 non-null  object\n",
      " 4   education-num   48842 non-null  int64 \n",
      " 5   marital-status  48842 non-null  object\n",
      " 6   occupation      48842 non-null  object\n",
      " 7   relationship    48842 non-null  object\n",
      " 8   race            48842 non-null  object\n",
      " 9   sex             48842 non-null  object\n",
      " 10  capital-gain    48842 non-null  int64 \n",
      " 11  capital-loss    48842 non-null  int64 \n",
      " 12  hours-per-week  48842 non-null  int64 \n",
      " 13  native-country  48842 non-null  object\n",
      " 14  income          48842 non-null  object\n",
      "dtypes: int64(6), object(9)\n",
      "memory usage: 5.6+ MB\n"
     ]
    }
   ],
   "source": [
    "df_adult_clean.info()"
   ]
  },
  {
   "cell_type": "code",
   "execution_count": 23,
   "id": "af0099b6-f373-499b-ba58-c19e12608a51",
   "metadata": {
    "tags": []
   },
   "outputs": [
    {
     "name": "stdout",
     "output_type": "stream",
     "text": [
      "<class 'pandas.core.frame.DataFrame'>\n",
      "RangeIndex: 48842 entries, 0 to 48841\n",
      "Data columns (total 15 columns):\n",
      " #   Column          Non-Null Count  Dtype   \n",
      "---  ------          --------------  -----   \n",
      " 0   age             48842 non-null  int64   \n",
      " 1   workclass       48842 non-null  category\n",
      " 2   fnlwgt          48842 non-null  int64   \n",
      " 3   education       48842 non-null  category\n",
      " 4   education-num   48842 non-null  int64   \n",
      " 5   marital-status  48842 non-null  category\n",
      " 6   occupation      48842 non-null  category\n",
      " 7   relationship    48842 non-null  category\n",
      " 8   race            48842 non-null  category\n",
      " 9   sex             48842 non-null  category\n",
      " 10  capital-gain    48842 non-null  int64   \n",
      " 11  capital-loss    48842 non-null  int64   \n",
      " 12  hours-per-week  48842 non-null  int64   \n",
      " 13  native-country  48842 non-null  category\n",
      " 14  income          48842 non-null  category\n",
      "dtypes: category(9), int64(6)\n",
      "memory usage: 2.7 MB\n"
     ]
    }
   ],
   "source": [
    "#convert categorical columns to category dtype\n",
    "for col in categorical_cols:\n",
    "    df_adult_clean[col] = df_adult_clean[col].astype('category')\n",
    "\n",
    "df_adult_clean.info()"
   ]
  },
  {
   "cell_type": "markdown",
   "id": "eadb5a23-179f-4b66-90af-3189be5c3082",
   "metadata": {
    "tags": []
   },
   "source": [
    "## *Map categorical columns: Age, education,workclass to smaller category set*"
   ]
  },
  {
   "cell_type": "code",
   "execution_count": 25,
   "id": "52314ad5-f864-4c80-8fb2-3db5bce74916",
   "metadata": {
    "tags": []
   },
   "outputs": [
    {
     "data": {
      "text/plain": [
       "array([None], dtype=object)"
      ]
     },
     "execution_count": 25,
     "metadata": {},
     "output_type": "execute_result"
    }
   ],
   "source": [
    "#Map workclass column to smaller category set\n",
    "df_adult_clean['employment-type'] = None\n",
    "\n",
    "df_adult_clean.loc[df_adult_clean['workclass'].isin(['Federal-gov', 'Local-gov' , 'State-gov']), \n",
    "      'employment-type'] = 'Government'\n",
    "df_adult_clean.loc[df_adult_clean['workclass'].isin(['Self-emp-inc' , 'Self-emp-not-inc']),      \n",
    "      'employment-type'] = 'Self-Employed'\n",
    "df_adult_clean.loc[df_adult_clean['workclass'].isin(['Private' , 'Without-pay']),                               \n",
    "      'employment-type'] = 'Privately-Employed'\n",
    "df_adult_clean['employment-type'].unique()"
   ]
  },
  {
   "cell_type": "code",
   "execution_count": 26,
   "id": "6e1bed10-6e1e-4121-83a7-d43793560c61",
   "metadata": {
    "tags": []
   },
   "outputs": [
    {
     "data": {
      "text/plain": [
       "['state-gov', 'self-emp-not-inc', 'private', 'federal-gov', 'local-gov', 'self-emp-inc', 'without-pay', 'never-worked']\n",
       "Categories (8, object): ['federal-gov', 'local-gov', 'never-worked', 'private', 'self-emp-inc', 'self-emp-not-inc', 'state-gov', 'without-pay']"
      ]
     },
     "execution_count": 26,
     "metadata": {},
     "output_type": "execute_result"
    }
   ],
   "source": [
    "df_adult_clean['workclass'].unique()"
   ]
  },
  {
   "cell_type": "markdown",
   "id": "0edfd795-559e-44c5-a63d-34e190a23515",
   "metadata": {},
   "source": [
    "# **Outlier Detection and Treatment**"
   ]
  },
  {
   "cell_type": "markdown",
   "id": "9a96f0ac-5936-4e7d-842b-1812904c3886",
   "metadata": {},
   "source": [
    "# What are Outliers?\n",
    "* Data points significantly differ from the rest of the dataset\n",
    "* Can appear due to experimental errors, Sampling errors or Natural outliers \n",
    "* Common outliers examples in the Adult dataset:\n",
    "    * Age: \n",
    "    Most people fall within a reasonable working-age range (18–65 years old). Values that are  much younger or older could be considered outliers. For example, ages above 80 or below 16 are unusual for this dataset and may be outliers.\n",
    "    * Hours-per-week: \n",
    "  Most people work between 30 and 60 hours per week. Any values above 80 hours per week or below 10 hours might be considered outliers. For example, if someone reports working 99 hours per week, this is highly unusual and likely an outlier.\n",
    "\n",
    "* Can negatively affect the statistical analysis and the training process of a machine learning algorithm resulting in lower accuracy.\n"
   ]
  },
  {
   "cell_type": "code",
   "execution_count": 29,
   "id": "c00dbae3-f327-40b2-a97f-b52c3a5d7e9b",
   "metadata": {
    "tags": []
   },
   "outputs": [],
   "source": [
    "#from IPython.display import Image\n",
    "\n",
    "# Provide the path to the image file\n",
    "#img_path = \"slide_2.png\"\n",
    "\n",
    "# Display the image\n",
    "#Image(img_path)"
   ]
  },
  {
   "cell_type": "markdown",
   "id": "2f24adf7-cbc0-4af3-9bea-f00c69c794c1",
   "metadata": {},
   "source": [
    "# Outlier Detection : Visualization Methods\n",
    "* Visualization Methods\n",
    "    * Box plots:\n",
    "    Effectively visualize the distribution of data and highlight outliers.\n",
    "    * Scatter plots:\n",
    "  Help identify outliers in two-dimensional data.\n",
    "  \n",
    "![Local image](slide_3_image.png)"
   ]
  },
  {
   "cell_type": "code",
   "execution_count": 31,
   "id": "150232ab-4750-422a-931a-a0015c504a44",
   "metadata": {
    "tags": []
   },
   "outputs": [
    {
     "data": {
      "image/png": "[encoded data removed]",
      "text/plain": [
       "<Figure size 640x480 with 1 Axes>"
      ]
     },
     "metadata": {},
     "output_type": "display_data"
    }
   ],
   "source": [
    "from scipy import stats\n",
    "import seaborn as sns\n",
    "import matplotlib.pyplot as plt\n",
    "\n",
    "###################################################################################\n",
    "# Detect for outlier in age using visulation method:'Box plot' of age by income group\n",
    "###################################################################################\n",
    "sns.boxplot(x='income', y='age', data=df_adult_clean)\n",
    "plt.title('Age Distribution by Income Group')\n",
    "plt.show()\n",
    "\n",
    "#As per plot, we have outliers highlighted"
   ]
  },
  {
   "cell_type": "code",
   "execution_count": null,
   "id": "6fd33dc5-9530-4364-afb9-806f8ef1c5ef",
   "metadata": {},
   "outputs": [],
   "source": []
  },
  {
   "cell_type": "code",
   "execution_count": 32,
   "id": "1fb5cee6-fc2f-4cbb-a541-fb85f017eaf6",
   "metadata": {
    "tags": []
   },
   "outputs": [
    {
     "data": {
      "image/png": "[encoded data removed]",
      "text/plain": [
       "<Figure size 640x480 with 1 Axes>"
      ]
     },
     "metadata": {},
     "output_type": "display_data"
    },
    {
     "data": {
      "image/png": "[encoded data removed]",
      "text/plain": [
       "<Figure size 640x480 with 1 Axes>"
      ]
     },
     "metadata": {},
     "output_type": "display_data"
    },
    {
     "data": {
      "image/png": "[encoded data removed]",
      "text/plain": [
       "<Figure size 640x480 with 1 Axes>"
      ]
     },
     "metadata": {},
     "output_type": "display_data"
    },
    {
     "data": {
      "image/png": "[encoded data removed]",
      "text/plain": [
       "<Figure size 640x480 with 1 Axes>"
      ]
     },
     "metadata": {},
     "output_type": "display_data"
    },
    {
     "data": {
      "image/png": "[encoded data removed]",
      "text/plain": [
       "<Figure size 640x480 with 1 Axes>"
      ]
     },
     "metadata": {},
     "output_type": "display_data"
    },
    {
     "data": {
      "image/png": "[encoded data removed]",
      "text/plain": [
       "<Figure size 640x480 with 1 Axes>"
      ]
     },
     "metadata": {},
     "output_type": "display_data"
    }
   ],
   "source": [
    "#Vizualize the outliers in all the numerical columns\n",
    "int_columns = ['age','fnlwgt','education-num','capital-gain','capital-loss','hours-per-week']\n",
    "data=df_adult_clean\n",
    "\n",
    "for i in int_columns:\n",
    "  sns.boxplot(x = data[i])\n",
    "  plt.show()"
   ]
  },
  {
   "cell_type": "markdown",
   "id": "717534d3-edd2-45e7-a4bd-28ce85dc9ba8",
   "metadata": {},
   "source": [
    "# Outlier Detection : Statistical Methods\n",
    "* Statistical Methods\n",
    "    * Z-score: \n",
    "        * Any data point whose Z-score falls out of 3rd standard deviation are considered outlier.\n",
    "    * IQR (Interquartile Range):  \n",
    "        * Calculates the range between the first and third quartiles (Q1 and Q3). Data points outside 1.5 times the IQR below Q1 or above Q3 are considered outliers.\n",
    "![Local image](slide_4_image1.png)![Local image](slide_4_image2.png)"
   ]
  },
  {
   "cell_type": "code",
   "execution_count": 34,
   "id": "390761c1-4e5a-4ec8-9724-b8a847b61423",
   "metadata": {
    "tags": []
   },
   "outputs": [
    {
     "name": "stdout",
     "output_type": "stream",
     "text": [
      "       age income  is_outlier\n",
      "20249   80  <=50k        True\n",
      "35543   80  <=50k        True\n",
      "42600   80  <=50k        True\n",
      "18272   80  <=50k        True\n",
      "40498   80  <=50k        True\n",
      "...    ...    ...         ...\n",
      "5104    90  <=50k        True\n",
      "18725   90  <=50k        True\n",
      "222     90  <=50k        True\n",
      "31696   90   >50k        True\n",
      "6624    90  <=50k        True\n",
      "\n",
      "[186 rows x 3 columns]\n"
     ]
    }
   ],
   "source": [
    "###################################################################################\n",
    "# Detect for outlier in age using statistical Method: 'z-score'\n",
    "###################################################################################\n",
    "df_adult_clean.sort_values(by='age', inplace=True)\n",
    "df_adult_clean['zscore'] = stats.zscore(df_adult_clean['age'])\n",
    "threshold = 3  # Set a threshold to identify outliers\n",
    "df_adult_clean['is_outlier'] = np.where(df_adult_clean['zscore'].abs() > threshold, True, False)\n",
    "print( df_adult_clean[df_adult_clean['is_outlier'] == True][['age','income','is_outlier']])"
   ]
  },
  {
   "cell_type": "code",
   "execution_count": 35,
   "id": "2e3eba40-43d1-48d8-add9-0fdd3d3904c8",
   "metadata": {
    "tags": []
   },
   "outputs": [
    {
     "name": "stdout",
     "output_type": "stream",
     "text": [
      "       age income  is_outlier\n",
      "43971   79  <=50k        True\n",
      "16523   79   >50k        True\n",
      "32754   79  <=50k        True\n",
      "48709   79  <=50k        True\n",
      "42330   79  <=50k        True\n",
      "...    ...    ...         ...\n",
      "5104    90  <=50k        True\n",
      "18725   90  <=50k        True\n",
      "222     90  <=50k        True\n",
      "31696   90   >50k        True\n",
      "6624    90  <=50k        True\n",
      "\n",
      "[216 rows x 3 columns]\n"
     ]
    }
   ],
   "source": [
    "###################################################################################\n",
    "# Detect outlier in age using statistical Method: 'IQR'\n",
    "###################################################################################\n",
    "Q1 = df_adult_clean['age'].quantile(0.25)\n",
    "Q3 = df_adult_clean['age'].quantile(0.75)\n",
    "IQR = Q3 - Q1\n",
    "\n",
    "lower_bound = Q1 - 1.5 * IQR\n",
    "upper_bound = Q3 + 1.5 * IQR\n",
    "\n",
    "df_adult_clean['is_outlier'] = np.where((df_adult_clean['age'] < lower_bound) | (df_adult_clean['age'] > upper_bound), True, False)\n",
    "print (df_adult_clean[(df_adult_clean['age'] < lower_bound) | (df_adult_clean['age'] > upper_bound)][['age','income','is_outlier']])"
   ]
  },
  {
   "cell_type": "markdown",
   "id": "ba8a7a3d-7a04-460d-878d-4ae9271788b5",
   "metadata": {},
   "source": [
    "# Outlier Treatment Techniques\n",
    "* Removal\n",
    "    * Remove outliers from the dataset. This is a simple approach but can lead to loss of information if outliers are important.\n",
    "* Imputation\n",
    "    * Replace outliers with more reasonable values, such as the mean, median, or a value based on a statistical model. As the mean value is highly influenced by the outlier treatment, it is advised to replace the outliers with the median value.\n",
    "* Quantile Based Flooring and Capping \n",
    "    * Cap outliers to a certain threshold, such as the 95th or 99th percentile or floored at a factor below the 10th percentile value.\n",
    "* Transformation \n",
    "    * Apply a transformation (e.g., log transformation) to the data to reduce the impact of outliers."
   ]
  },
  {
   "cell_type": "markdown",
   "id": "21549f77-65f1-415c-a370-97b71c549584",
   "metadata": {},
   "source": [
    "## *Removal*"
   ]
  },
  {
   "cell_type": "code",
   "execution_count": 38,
   "id": "c99aff8f-9283-476a-b996-1a70bf10eea7",
   "metadata": {
    "tags": []
   },
   "outputs": [
    {
     "data": {
      "image/png": "[encoded data removed]",
      "text/plain": [
       "<Figure size 640x480 with 1 Axes>"
      ]
     },
     "metadata": {},
     "output_type": "display_data"
    }
   ],
   "source": [
    "###################################################################################\n",
    "# Remove outlier based on IQR\n",
    "###################################################################################\n",
    "sns.boxplot(x='income', y='age', data=df_adult_clean[(df_adult_clean['age'] >= lower_bound) & (df_adult_clean['age'] <= upper_bound)])\n",
    "plt.title('IQR Age Distribution by Income Group')\n",
    "plt.show()"
   ]
  },
  {
   "cell_type": "markdown",
   "id": "cec9d33c-fc1b-48ea-aa23-311665e5fcc5",
   "metadata": {
    "tags": []
   },
   "source": [
    "## *Quantile based Flooring/Capping*"
   ]
  },
  {
   "cell_type": "code",
   "execution_count": 40,
   "id": "03e95d6a-eb8e-45e2-b50f-fa0a87d1b9b6",
   "metadata": {
    "tags": []
   },
   "outputs": [
    {
     "data": {
      "text/plain": [
       "<Axes: xlabel='hours-per-week'>"
      ]
     },
     "execution_count": 40,
     "metadata": {},
     "output_type": "execute_result"
    },
    {
     "data": {
      "image/png": "[encoded data removed]",
      "text/plain": [
       "<Figure size 640x480 with 1 Axes>"
      ]
     },
     "metadata": {},
     "output_type": "display_data"
    }
   ],
   "source": [
    "sns.boxplot(x='hours-per-week', data=df_adult_clean)"
   ]
  },
  {
   "cell_type": "code",
   "execution_count": 41,
   "id": "5b5a2a24-52d7-46ea-b24d-1e3db1e1fa00",
   "metadata": {
    "tags": []
   },
   "outputs": [
    {
     "name": "stdout",
     "output_type": "stream",
     "text": [
      "count    48842.000000\n",
      "mean        41.192805\n",
      "std          6.184799\n",
      "min         32.500000\n",
      "25%         40.000000\n",
      "50%         40.000000\n",
      "75%         45.000000\n",
      "max         52.500000\n",
      "Name: hours-per-week, dtype: float64\n"
     ]
    }
   ],
   "source": [
    "#Capping/Flooring the ouliers for \"hours-per-week\"\n",
    "\n",
    "import numpy as np\n",
    "\n",
    "# Function to cap/floor outliers in a column using the IQR method\n",
    "def cap_outliers_iqr(df_adult_clean, col):\n",
    "    Q1 = df_adult_clean[col].quantile(0.25)  # First quartile (25th percentile)\n",
    "    Q3 = df_adult_clean[col].quantile(0.75)  # Third quartile (75th percentile)\n",
    "    IQR = Q3 - Q1                # Interquartile range\n",
    "    lower_bound = Q1 - 1.5 * IQR  # Lower bound\n",
    "    upper_bound = Q3 + 1.5 * IQR  # Upper bound\n",
    "\n",
    "    # Cap values below the lower bound to the lower bound\n",
    "    df_adult_clean[col] = np.where(df_adult_clean[col] < lower_bound, lower_bound, df_adult_clean[col])\n",
    "\n",
    "    # Cap values above the upper bound to the upper bound\n",
    "    df_adult_clean[col] = np.where(df_adult_clean[col] > upper_bound, upper_bound, df_adult_clean[col])\n",
    "\n",
    "    return df_adult_clean\n",
    "\n",
    "# Example: Applying capping/flooring to the 'hours-per-week' column in the dataset\n",
    "df_adult_capping = df_adult_clean.copy()\n",
    "\n",
    "# Apply capping for the 'hours-per-week' column\n",
    "df_adult_capping = cap_outliers_iqr(df_adult_capping, 'hours-per-week')\n",
    "\n",
    "# Check the capped values\n",
    "print(df_adult_capping['hours-per-week'].describe())\n"
   ]
  },
  {
   "cell_type": "code",
   "execution_count": 42,
   "id": "319c4c81-86b0-4b14-bbc1-583852727478",
   "metadata": {
    "tags": []
   },
   "outputs": [
    {
     "data": {
      "text/plain": [
       "<Axes: xlabel='hours-per-week'>"
      ]
     },
     "execution_count": 42,
     "metadata": {},
     "output_type": "execute_result"
    },
    {
     "data": {
      "image/png": "[encoded data removed]",
      "text/plain": [
       "<Figure size 640x480 with 1 Axes>"
      ]
     },
     "metadata": {},
     "output_type": "display_data"
    }
   ],
   "source": [
    "sns.boxplot(x='hours-per-week', data=df_adult_capping)"
   ]
  },
  {
   "cell_type": "markdown",
   "id": "4d39edfd-85ab-4344-b6e8-dde27d84ad0f",
   "metadata": {},
   "source": [
    "## *Log Transformation*"
   ]
  },
  {
   "cell_type": "code",
   "execution_count": 44,
   "id": "83b0db42-0721-41a3-8626-0e9957bff514",
   "metadata": {
    "tags": []
   },
   "outputs": [
    {
     "name": "stdout",
     "output_type": "stream",
     "text": [
      "       age   log_age income\n",
      "28092   17  2.890372  <=50k\n",
      "46962   17  2.890372  <=50k\n",
      "42922   17  2.890372  <=50k\n",
      "1389    17  2.890372  <=50k\n",
      "32963   17  2.890372  <=50k\n",
      "...    ...       ...    ...\n",
      "5104    90  4.510860  <=50k\n",
      "18725   90  4.510860  <=50k\n",
      "222     90  4.510860  <=50k\n",
      "31696   90  4.510860   >50k\n",
      "6624    90  4.510860  <=50k\n",
      "\n",
      "[48842 rows x 3 columns]\n"
     ]
    },
    {
     "data": {
      "image/png": "[encoded data removed]",
      "text/plain": [
       "<Figure size 640x480 with 1 Axes>"
      ]
     },
     "metadata": {},
     "output_type": "display_data"
    }
   ],
   "source": [
    "###################################################################################\n",
    "# Transform 'Age' to reduce the impact of outliers as 'age' has skewed distribution\n",
    "# Use outlier treatment method - 'log-transform'\n",
    "###################################################################################\n",
    "df_adult_clean['log_age'] = np.log(df_adult_clean['age'] + 1)\n",
    "print( df_adult_clean[['age','log_age','income']])\n",
    "\n",
    "# Now Box plot of transformed 'log_age' by income group and verify that outliers are treated\n",
    "sns.boxplot(x='income', y='log_age', data=df_adult_clean)\n",
    "plt.title('Transformed Age Distribution by Income Group')\n",
    "plt.show()"
   ]
  },
  {
   "cell_type": "code",
   "execution_count": null,
   "id": "33bef82b-1736-4040-beba-c5ab61152024",
   "metadata": {
    "tags": []
   },
   "outputs": [],
   "source": []
  },
  {
   "cell_type": "markdown",
   "id": "81a206eb-f2e4-4fc1-ae54-e5f4bb8b3fca",
   "metadata": {},
   "source": []
  },
  {
   "cell_type": "code",
   "execution_count": null,
   "id": "643e4ccc-1ebe-4c28-bbb1-ba49e0413bbe",
   "metadata": {
    "tags": []
   },
   "outputs": [],
   "source": []
  },
  {
   "cell_type": "code",
   "execution_count": null,
   "id": "1c7b901e-ae57-4329-b5d9-8048ccbd4487",
   "metadata": {
    "tags": []
   },
   "outputs": [],
   "source": []
  },
  {
   "cell_type": "code",
   "execution_count": 46,
   "id": "7bdd6cd5-abe6-4d54-850d-2da4571a1f47",
   "metadata": {
    "tags": []
   },
   "outputs": [
    {
     "data": {
      "text/plain": [
       "array([32.5, 40. , 45. , 36. , 35. , 50. , 48. , 52.5, 38. , 33. , 37. ,\n",
       "       42. , 49. , 43. , 39. , 52. , 34. , 47. , 44. , 46. , 41. , 51. ])"
      ]
     },
     "execution_count": 46,
     "metadata": {},
     "output_type": "execute_result"
    }
   ],
   "source": [
    "df_adult_capping['hours-per-week'].unique()"
   ]
  },
  {
   "cell_type": "markdown",
   "id": "bad4e442-12fa-4b01-8d6f-1d8a634d7c33",
   "metadata": {},
   "source": [
    "# Feature Engineering\n",
    "* Process of creating new features or transforming existing features to improve the performance of a machine-learning model.\n",
    "* Involves selecting relevant information from raw data and transforming it into a format that can be easily understood by a model. \n",
    "* Improves model accuracy by providing more meaningful and relevant information.\n",
    "![Local image](slide_6_image.png)\n",
    "\n",
    "# Feature Engineering Process\n",
    "* Feature Creation\n",
    "    * Process of generating new features based on domain knowledge or by observing patterns in the data.\n",
    "* Feature Transformation \n",
    "    * Process of transforming the features into a more suitable representation for the machine learning model.\n",
    "* Feature Extraction\n",
    "    * Process of creating new features from existing ones to provide more relevant information to the machine learning model.\n",
    "* Feature Selection \n",
    "    * Process of selecting a subset of relevant features from the dataset to be used in a machine-learning model.\n",
    "* Feature Scaling\n",
    "    * Process of transforming the features so that they have a similar scale.\n",
    "    \n",
    "# Feature Engineering Techniques\n",
    "* Encoding\n",
    "    * Used to transform categorical variables into numerical values.\n",
    "* Binning\n",
    "    * Transform continuous variables into categorical variables\n",
    "* Scaling: Two techniques : Standardization and normalization\n",
    "    * Standardization scales the variable so that it has zero mean and unit variance. \n",
    "    * Normalization scales the variable so that it has a range of values between 0 and 1.\n",
    "* Feature Split\n",
    "    * Divide single features into multiple sub-features or groups based on specific criteria. \n",
    "* Text Data Preprocessing\n",
    "    * Removes stop words, stemming, and vectorization.\n",
    "    \n",
    "# Encoding\n",
    "* One-Hot Encoding\n",
    "    * Converts each category into a new binary column, with a value of 1 indicating the presence of the category and 0 indicating absence.\n",
    "* Label Encoding\n",
    "    * Assigns a unique integer (label) to each category. Suitable for nominal data where categories have no inherent order (e.g., \"red\", \"green\", \"blue\").\n",
    "* Ordinal Encoding\n",
    "    * Similar to Label Encoding but the categories are explicitly ordered based on their importance or ranking (e.g., “Low”, “Medium”, “High”).\n",
    "\n",
    "# Encoding categorical variables\n",
    "![Local image](slide_10_image.png)"
   ]
  },
  {
   "cell_type": "markdown",
   "id": "b42e5d68-a83c-4c75-a963-de8895ccc933",
   "metadata": {},
   "source": [
    "## ***Label encoding***"
   ]
  },
  {
   "cell_type": "code",
   "execution_count": 49,
   "id": "e051f22c-559d-40a7-8303-19beb7aff448",
   "metadata": {
    "tags": []
   },
   "outputs": [
    {
     "name": "stdout",
     "output_type": "stream",
     "text": [
      "       workclass  workclass_labeled\n",
      "28092    private                  3\n",
      "46962    private                  3\n",
      "42922    private                  3\n",
      "1389     private                  3\n",
      "32963    private                  3\n",
      "...          ...                ...\n",
      "5104     private                  3\n",
      "18725  local-gov                  1\n",
      "222      private                  3\n",
      "31696    private                  3\n",
      "6624     private                  3\n",
      "\n",
      "[48842 rows x 2 columns]\n"
     ]
    }
   ],
   "source": [
    "# Apply encoding for categorical features \n",
    "from sklearn.preprocessing import LabelEncoder\n",
    "\n",
    "# Initialize the LabelEncoder\n",
    "label_encoder = LabelEncoder()\n",
    "\n",
    "# Apply Label Encoding to the 'workclass' feature\n",
    "df_adult_clean['workclass_labeled'] = label_encoder.fit_transform(df_adult_clean['workclass'])\n",
    "print( df_adult_clean[['workclass','workclass_labeled']])"
   ]
  },
  {
   "cell_type": "markdown",
   "id": "4214a19c-235f-4676-a112-675e26cef241",
   "metadata": {},
   "source": [
    "## ***One-hot encoding***"
   ]
  },
  {
   "cell_type": "code",
   "execution_count": 51,
   "id": "0cca36a6-c265-4df1-add5-29543db280bd",
   "metadata": {
    "tags": []
   },
   "outputs": [
    {
     "name": "stdout",
     "output_type": "stream",
     "text": [
      "          sex  sex_female  sex_male\n",
      "28092  female           1         0\n",
      "46962  female           1         0\n",
      "42922    male           0         1\n",
      "1389     male           0         1\n",
      "32963  female           1         0\n",
      "...       ...         ...       ...\n",
      "5104     male           0         1\n",
      "18725    male           0         1\n",
      "222      male           0         1\n",
      "31696    male           0         1\n",
      "6624     male           0         1\n",
      "\n",
      "[48842 rows x 3 columns]\n"
     ]
    }
   ],
   "source": [
    "#Apply one-hot encoding to 'sex' feature as it takes binary values\n",
    "sex_encoded_df = pd.get_dummies(df_adult_clean['sex'],prefix='sex').astype(int)\n",
    "#merge encoded 'sex' dataframe to original data frame\n",
    "for col in sex_encoded_df.columns:\n",
    "    if col in df_adult_clean.columns:\n",
    "        df_adult_clean.drop(columns=[col], inplace=True)\n",
    "    df_adult_clean = pd.concat([df_adult_clean, sex_encoded_df[[col]]], axis=1)\n",
    "print( df_adult_clean[['sex','sex_female','sex_male']])"
   ]
  },
  {
   "cell_type": "markdown",
   "id": "67d3f987-651b-4d2e-bd7d-fb18235a3152",
   "metadata": {},
   "source": [
    "## ***Feature Scaling***"
   ]
  },
  {
   "cell_type": "markdown",
   "id": "1607f877-ff23-4faf-9483-20da3d79de03",
   "metadata": {},
   "source": [
    "### ***Standardization on numerical columns***"
   ]
  },
  {
   "cell_type": "code",
   "execution_count": 54,
   "id": "c26f94ca-eed6-49a5-968a-f9c401b823bf",
   "metadata": {
    "tags": []
   },
   "outputs": [],
   "source": [
    "from sklearn.preprocessing import StandardScaler\n",
    "\n",
    "#Apply scaling to numerical features\n",
    "scaler = StandardScaler()\n",
    "numerical_columns = ['age','fnlwgt','education-num','capital-gain','capital-loss','hours-per-week']\n",
    "df_adult_scaling=df_adult_clean\n",
    "\n",
    "df_adult_scaling[numerical_columns] = scaler.fit_transform(df_adult_scaling[numerical_columns])\n"
   ]
  },
  {
   "cell_type": "code",
   "execution_count": 55,
   "id": "731791d3-2681-47b0-9342-63c93a503134",
   "metadata": {
    "tags": []
   },
   "outputs": [
    {
     "data": {
      "text/html": [
       "<div>\n",
       "<style scoped>\n",
       "    .dataframe tbody tr th:only-of-type {\n",
       "        vertical-align: middle;\n",
       "    }\n",
       "\n",
       "    .dataframe tbody tr th {\n",
       "        vertical-align: top;\n",
       "    }\n",
       "\n",
       "    .dataframe thead th {\n",
       "        text-align: right;\n",
       "    }\n",
       "</style>\n",
       "<table border=\"1\" class=\"dataframe\">\n",
       "  <thead>\n",
       "    <tr style=\"text-align: right;\">\n",
       "      <th></th>\n",
       "      <th>age</th>\n",
       "      <th>workclass</th>\n",
       "      <th>fnlwgt</th>\n",
       "      <th>education</th>\n",
       "      <th>education-num</th>\n",
       "      <th>marital-status</th>\n",
       "      <th>occupation</th>\n",
       "      <th>relationship</th>\n",
       "      <th>race</th>\n",
       "      <th>sex</th>\n",
       "      <th>...</th>\n",
       "      <th>hours-per-week</th>\n",
       "      <th>native-country</th>\n",
       "      <th>income</th>\n",
       "      <th>employment-type</th>\n",
       "      <th>zscore</th>\n",
       "      <th>is_outlier</th>\n",
       "      <th>log_age</th>\n",
       "      <th>workclass_labeled</th>\n",
       "      <th>sex_female</th>\n",
       "      <th>sex_male</th>\n",
       "    </tr>\n",
       "  </thead>\n",
       "  <tbody>\n",
       "    <tr>\n",
       "      <th>28092</th>\n",
       "      <td>-1.578629</td>\n",
       "      <td>private</td>\n",
       "      <td>-1.446808</td>\n",
       "      <td>10th</td>\n",
       "      <td>-1.586221</td>\n",
       "      <td>never-married</td>\n",
       "      <td>sales</td>\n",
       "      <td>own-child</td>\n",
       "      <td>white</td>\n",
       "      <td>female</td>\n",
       "      <td>...</td>\n",
       "      <td>-2.455137</td>\n",
       "      <td>united-states</td>\n",
       "      <td>&lt;=50k</td>\n",
       "      <td>None</td>\n",
       "      <td>-1.578629</td>\n",
       "      <td>False</td>\n",
       "      <td>2.890372</td>\n",
       "      <td>3</td>\n",
       "      <td>1</td>\n",
       "      <td>0</td>\n",
       "    </tr>\n",
       "    <tr>\n",
       "      <th>46962</th>\n",
       "      <td>-1.578629</td>\n",
       "      <td>private</td>\n",
       "      <td>-1.096978</td>\n",
       "      <td>12th</td>\n",
       "      <td>-0.808297</td>\n",
       "      <td>never-married</td>\n",
       "      <td>sales</td>\n",
       "      <td>own-child</td>\n",
       "      <td>white</td>\n",
       "      <td>female</td>\n",
       "      <td>...</td>\n",
       "      <td>-2.616540</td>\n",
       "      <td>united-states</td>\n",
       "      <td>&lt;=50k</td>\n",
       "      <td>None</td>\n",
       "      <td>-1.578629</td>\n",
       "      <td>False</td>\n",
       "      <td>2.890372</td>\n",
       "      <td>3</td>\n",
       "      <td>1</td>\n",
       "      <td>0</td>\n",
       "    </tr>\n",
       "    <tr>\n",
       "      <th>42922</th>\n",
       "      <td>-1.578629</td>\n",
       "      <td>private</td>\n",
       "      <td>-0.229228</td>\n",
       "      <td>10th</td>\n",
       "      <td>-1.586221</td>\n",
       "      <td>never-married</td>\n",
       "      <td>other-service</td>\n",
       "      <td>own-child</td>\n",
       "      <td>white</td>\n",
       "      <td>male</td>\n",
       "      <td>...</td>\n",
       "      <td>-1.970927</td>\n",
       "      <td>united-states</td>\n",
       "      <td>&lt;=50k</td>\n",
       "      <td>None</td>\n",
       "      <td>-1.578629</td>\n",
       "      <td>False</td>\n",
       "      <td>2.890372</td>\n",
       "      <td>3</td>\n",
       "      <td>0</td>\n",
       "      <td>1</td>\n",
       "    </tr>\n",
       "    <tr>\n",
       "      <th>1389</th>\n",
       "      <td>-1.578629</td>\n",
       "      <td>private</td>\n",
       "      <td>-1.355721</td>\n",
       "      <td>11th</td>\n",
       "      <td>-1.197259</td>\n",
       "      <td>never-married</td>\n",
       "      <td>other-service</td>\n",
       "      <td>own-child</td>\n",
       "      <td>white</td>\n",
       "      <td>male</td>\n",
       "      <td>...</td>\n",
       "      <td>-2.858645</td>\n",
       "      <td>united-states</td>\n",
       "      <td>&lt;=50k</td>\n",
       "      <td>None</td>\n",
       "      <td>-1.578629</td>\n",
       "      <td>False</td>\n",
       "      <td>2.890372</td>\n",
       "      <td>3</td>\n",
       "      <td>0</td>\n",
       "      <td>1</td>\n",
       "    </tr>\n",
       "    <tr>\n",
       "      <th>32963</th>\n",
       "      <td>-1.578629</td>\n",
       "      <td>private</td>\n",
       "      <td>-1.414403</td>\n",
       "      <td>11th</td>\n",
       "      <td>-1.197259</td>\n",
       "      <td>never-married</td>\n",
       "      <td>sales</td>\n",
       "      <td>own-child</td>\n",
       "      <td>white</td>\n",
       "      <td>female</td>\n",
       "      <td>...</td>\n",
       "      <td>-1.244612</td>\n",
       "      <td>united-states</td>\n",
       "      <td>&lt;=50k</td>\n",
       "      <td>None</td>\n",
       "      <td>-1.578629</td>\n",
       "      <td>False</td>\n",
       "      <td>2.890372</td>\n",
       "      <td>3</td>\n",
       "      <td>1</td>\n",
       "      <td>0</td>\n",
       "    </tr>\n",
       "    <tr>\n",
       "      <th>...</th>\n",
       "      <td>...</td>\n",
       "      <td>...</td>\n",
       "      <td>...</td>\n",
       "      <td>...</td>\n",
       "      <td>...</td>\n",
       "      <td>...</td>\n",
       "      <td>...</td>\n",
       "      <td>...</td>\n",
       "      <td>...</td>\n",
       "      <td>...</td>\n",
       "      <td>...</td>\n",
       "      <td>...</td>\n",
       "      <td>...</td>\n",
       "      <td>...</td>\n",
       "      <td>...</td>\n",
       "      <td>...</td>\n",
       "      <td>...</td>\n",
       "      <td>...</td>\n",
       "      <td>...</td>\n",
       "      <td>...</td>\n",
       "      <td>...</td>\n",
       "    </tr>\n",
       "    <tr>\n",
       "      <th>5104</th>\n",
       "      <td>3.745808</td>\n",
       "      <td>private</td>\n",
       "      <td>-1.299946</td>\n",
       "      <td>some-college</td>\n",
       "      <td>-0.030373</td>\n",
       "      <td>never-married</td>\n",
       "      <td>other-service</td>\n",
       "      <td>not-in-family</td>\n",
       "      <td>asian-pac-islander</td>\n",
       "      <td>male</td>\n",
       "      <td>...</td>\n",
       "      <td>-0.437595</td>\n",
       "      <td>united-states</td>\n",
       "      <td>&lt;=50k</td>\n",
       "      <td>None</td>\n",
       "      <td>3.745808</td>\n",
       "      <td>True</td>\n",
       "      <td>4.510860</td>\n",
       "      <td>3</td>\n",
       "      <td>0</td>\n",
       "      <td>1</td>\n",
       "    </tr>\n",
       "    <tr>\n",
       "      <th>18725</th>\n",
       "      <td>3.745808</td>\n",
       "      <td>local-gov</td>\n",
       "      <td>-0.341488</td>\n",
       "      <td>hs-grad</td>\n",
       "      <td>-0.419335</td>\n",
       "      <td>married-civ-spouse</td>\n",
       "      <td>other-service</td>\n",
       "      <td>husband</td>\n",
       "      <td>white</td>\n",
       "      <td>male</td>\n",
       "      <td>...</td>\n",
       "      <td>-0.034087</td>\n",
       "      <td>united-states</td>\n",
       "      <td>&lt;=50k</td>\n",
       "      <td>None</td>\n",
       "      <td>3.745808</td>\n",
       "      <td>True</td>\n",
       "      <td>4.510860</td>\n",
       "      <td>1</td>\n",
       "      <td>0</td>\n",
       "      <td>1</td>\n",
       "    </tr>\n",
       "    <tr>\n",
       "      <th>222</th>\n",
       "      <td>3.745808</td>\n",
       "      <td>private</td>\n",
       "      <td>-1.306025</td>\n",
       "      <td>hs-grad</td>\n",
       "      <td>-0.419335</td>\n",
       "      <td>never-married</td>\n",
       "      <td>other-service</td>\n",
       "      <td>not-in-family</td>\n",
       "      <td>black</td>\n",
       "      <td>male</td>\n",
       "      <td>...</td>\n",
       "      <td>-0.034087</td>\n",
       "      <td>united-states</td>\n",
       "      <td>&lt;=50k</td>\n",
       "      <td>None</td>\n",
       "      <td>3.745808</td>\n",
       "      <td>True</td>\n",
       "      <td>4.510860</td>\n",
       "      <td>3</td>\n",
       "      <td>0</td>\n",
       "      <td>1</td>\n",
       "    </tr>\n",
       "    <tr>\n",
       "      <th>31696</th>\n",
       "      <td>3.745808</td>\n",
       "      <td>private</td>\n",
       "      <td>1.177258</td>\n",
       "      <td>hs-grad</td>\n",
       "      <td>-0.419335</td>\n",
       "      <td>married-civ-spouse</td>\n",
       "      <td>prof-specialty</td>\n",
       "      <td>husband</td>\n",
       "      <td>white</td>\n",
       "      <td>male</td>\n",
       "      <td>...</td>\n",
       "      <td>-0.034087</td>\n",
       "      <td>united-states</td>\n",
       "      <td>&gt;50k</td>\n",
       "      <td>None</td>\n",
       "      <td>3.745808</td>\n",
       "      <td>True</td>\n",
       "      <td>4.510860</td>\n",
       "      <td>3</td>\n",
       "      <td>0</td>\n",
       "      <td>1</td>\n",
       "    </tr>\n",
       "    <tr>\n",
       "      <th>6624</th>\n",
       "      <td>3.745808</td>\n",
       "      <td>private</td>\n",
       "      <td>1.177258</td>\n",
       "      <td>11th</td>\n",
       "      <td>-1.197259</td>\n",
       "      <td>married-civ-spouse</td>\n",
       "      <td>craft-repair</td>\n",
       "      <td>husband</td>\n",
       "      <td>white</td>\n",
       "      <td>male</td>\n",
       "      <td>...</td>\n",
       "      <td>-0.034087</td>\n",
       "      <td>united-states</td>\n",
       "      <td>&lt;=50k</td>\n",
       "      <td>None</td>\n",
       "      <td>3.745808</td>\n",
       "      <td>True</td>\n",
       "      <td>4.510860</td>\n",
       "      <td>3</td>\n",
       "      <td>0</td>\n",
       "      <td>1</td>\n",
       "    </tr>\n",
       "  </tbody>\n",
       "</table>\n",
       "<p>48842 rows × 22 columns</p>\n",
       "</div>"
      ],
      "text/plain": [
       "            age  workclass    fnlwgt     education  education-num  \\\n",
       "28092 -1.578629    private -1.446808          10th      -1.586221   \n",
       "46962 -1.578629    private -1.096978          12th      -0.808297   \n",
       "42922 -1.578629    private -0.229228          10th      -1.586221   \n",
       "1389  -1.578629    private -1.355721          11th      -1.197259   \n",
       "32963 -1.578629    private -1.414403          11th      -1.197259   \n",
       "...         ...        ...       ...           ...            ...   \n",
       "5104   3.745808    private -1.299946  some-college      -0.030373   \n",
       "18725  3.745808  local-gov -0.341488       hs-grad      -0.419335   \n",
       "222    3.745808    private -1.306025       hs-grad      -0.419335   \n",
       "31696  3.745808    private  1.177258       hs-grad      -0.419335   \n",
       "6624   3.745808    private  1.177258          11th      -1.197259   \n",
       "\n",
       "           marital-status      occupation   relationship                race  \\\n",
       "28092       never-married           sales      own-child               white   \n",
       "46962       never-married           sales      own-child               white   \n",
       "42922       never-married   other-service      own-child               white   \n",
       "1389        never-married   other-service      own-child               white   \n",
       "32963       never-married           sales      own-child               white   \n",
       "...                   ...             ...            ...                 ...   \n",
       "5104        never-married   other-service  not-in-family  asian-pac-islander   \n",
       "18725  married-civ-spouse   other-service        husband               white   \n",
       "222         never-married   other-service  not-in-family               black   \n",
       "31696  married-civ-spouse  prof-specialty        husband               white   \n",
       "6624   married-civ-spouse    craft-repair        husband               white   \n",
       "\n",
       "          sex  ...  hours-per-week  native-country  income employment-type  \\\n",
       "28092  female  ...       -2.455137   united-states   <=50k            None   \n",
       "46962  female  ...       -2.616540   united-states   <=50k            None   \n",
       "42922    male  ...       -1.970927   united-states   <=50k            None   \n",
       "1389     male  ...       -2.858645   united-states   <=50k            None   \n",
       "32963  female  ...       -1.244612   united-states   <=50k            None   \n",
       "...       ...  ...             ...             ...     ...             ...   \n",
       "5104     male  ...       -0.437595   united-states   <=50k            None   \n",
       "18725    male  ...       -0.034087   united-states   <=50k            None   \n",
       "222      male  ...       -0.034087   united-states   <=50k            None   \n",
       "31696    male  ...       -0.034087   united-states    >50k            None   \n",
       "6624     male  ...       -0.034087   united-states   <=50k            None   \n",
       "\n",
       "         zscore is_outlier   log_age  workclass_labeled  sex_female  sex_male  \n",
       "28092 -1.578629      False  2.890372                  3           1         0  \n",
       "46962 -1.578629      False  2.890372                  3           1         0  \n",
       "42922 -1.578629      False  2.890372                  3           0         1  \n",
       "1389  -1.578629      False  2.890372                  3           0         1  \n",
       "32963 -1.578629      False  2.890372                  3           1         0  \n",
       "...         ...        ...       ...                ...         ...       ...  \n",
       "5104   3.745808       True  4.510860                  3           0         1  \n",
       "18725  3.745808       True  4.510860                  1           0         1  \n",
       "222    3.745808       True  4.510860                  3           0         1  \n",
       "31696  3.745808       True  4.510860                  3           0         1  \n",
       "6624   3.745808       True  4.510860                  3           0         1  \n",
       "\n",
       "[48842 rows x 22 columns]"
      ]
     },
     "execution_count": 55,
     "metadata": {},
     "output_type": "execute_result"
    }
   ],
   "source": [
    "df_adult_scaling"
   ]
  },
  {
   "cell_type": "code",
   "execution_count": null,
   "id": "6c98f527-7120-44ea-820b-993d1bfc46e5",
   "metadata": {},
   "outputs": [],
   "source": []
  }
 ],
 "metadata": {
  "kernelspec": {
   "display_name": "Python 3 (ipykernel)",
   "language": "python",
   "name": "python3"
  },
  "language_info": {
   "codemirror_mode": {
    "name": "ipython",
    "version": 3
   },
   "file_extension": ".py",
   "mimetype": "text/x-python",
   "name": "python",
   "nbconvert_exporter": "python",
   "pygments_lexer": "ipython3",
   "version": "3.11.5"
  }
 },
 "nbformat": 4,
 "nbformat_minor": 5
}
